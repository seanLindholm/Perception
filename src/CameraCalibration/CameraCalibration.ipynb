{
 "cells": [
  {
   "cell_type": "code",
   "execution_count": 1,
   "metadata": {},
   "outputs": [],
   "source": [
    "import numpy as np\n",
    "import cv2\n",
    "import glob\n",
    "import matplotlib.pyplot as plt"
   ]
  },
  {
   "cell_type": "code",
   "execution_count": 2,
   "metadata": {},
   "outputs": [],
   "source": [
    "nb_vertical = 9\n",
    "nb_horizontal = 6\n",
    "\n",
    "\n",
    "# prepare object points, like (0,0,0), (1,0,0), (2,0,0) ....,(6,5,0)\n",
    "objp = np.zeros((nb_horizontal*nb_vertical,3), np.float32)\n",
    "objp[:,:2] = np.mgrid[0:nb_vertical,0:nb_horizontal].T.reshape(-1,2)\n",
    "\n",
    "# Arrays to store object points and image points from all the images.\n",
    "objpoints_l = [] # 3d point in real world space\n",
    "imgpoints_l = [] # 2d points in image plane.\n",
    "\n",
    "subpix_criteria = (cv2.TERM_CRITERIA_EPS+cv2.TERM_CRITERIA_MAX_ITER, 30, 0.1)\n",
    "\n",
    "\n",
    "images = sorted(glob.glob('Stereo_calibration_images/left*.png'))\n",
    "\n",
    "for fname in images:\n",
    "    img = cv2.imread(fname)\n",
    "    gray = cv2.cvtColor(img, cv2.COLOR_BGR2GRAY)\n",
    "\n",
    "    ret, corners = cv2.findChessboardCorners(gray, (nb_vertical, nb_horizontal), cv2.CALIB_CB_ADAPTIVE_THRESH+cv2.CALIB_CB_FAST_CHECK+cv2.CALIB_CB_NORMALIZE_IMAGE)\n",
    "    \n",
    "    # If found, add object points, image points (after refining them)\n",
    "    if ret == True:\n",
    "        objpoints_l.append(objp)\n",
    "        cv2.cornerSubPix(gray,corners,(11, 11),(-1,-1),subpix_criteria)\n",
    "        imgpoints_l.append(corners)\n",
    "        \n",
    "        # Draw and display the corners\n",
    "        img = cv2.drawChessboardCorners(img, (nb_vertical,nb_horizontal), corners,ret)\n",
    "        #cv2.imshow('img',img)\n",
    "        #cv2.waitKey(500)\n",
    "\n",
    "cv2.destroyAllWindows()\n"
   ]
  },
  {
   "cell_type": "code",
   "execution_count": 3,
   "metadata": {},
   "outputs": [],
   "source": [
    "objp = np.zeros((nb_horizontal*nb_vertical,3), np.float32)\n",
    "objp[:,:2] = np.mgrid[0:nb_vertical,0:nb_horizontal].T.reshape(-1,2)\n",
    "\n",
    "# Arrays to store object points and image points from all the images.\n",
    "objpoints_r = [] # 3d point in real world space\n",
    "imgpoints_r = [] # 2d points in image plane.\n",
    "\n",
    "\n",
    "images = sorted(glob.glob('Stereo_calibration_images/right*.png'))\n",
    "\n",
    "for fname in images:\n",
    "    img = cv2.imread(fname)\n",
    "    gray = cv2.cvtColor(img, cv2.COLOR_BGR2GRAY)\n",
    "    ret, corners = cv2.findChessboardCorners(gray, (nb_vertical, nb_horizontal), cv2.CALIB_CB_ADAPTIVE_THRESH+cv2.CALIB_CB_FAST_CHECK+cv2.CALIB_CB_NORMALIZE_IMAGE)\n",
    "    # If found, add object points, image points (after refining them)\n",
    "    if ret == True:\n",
    "        objpoints_r.append(objp)\n",
    "        cv2.cornerSubPix(gray,corners,(11,11),(-1,-1),subpix_criteria)\n",
    "        imgpoints_r.append(corners)\n",
    "\n",
    "        # Draw and display the corners\n",
    "        img = cv2.drawChessboardCorners(img, (nb_vertical,nb_horizontal), corners,ret)\n",
    "        #cv2.imshow('img',img)\n",
    "        #cv2.waitKey(500)\n",
    "\n",
    "cv2.destroyAllWindows()"
   ]
  },
  {
   "cell_type": "code",
   "execution_count": 4,
   "metadata": {},
   "outputs": [
    {
     "name": "stdout",
     "output_type": "stream",
     "text": [
      "[[703.59270499   0.         621.96204913]\n",
      " [  0.         703.547427   372.69127092]\n",
      " [  0.           0.           1.        ]]\n",
      "[[-3.28857966e-01  1.40839430e-01 -2.03002374e-04  1.09785667e-04\n",
      "  -3.09299570e-02]]\n",
      "[[700.01614988   0.         647.63446636]\n",
      " [  0.         700.21423829 372.89905976]\n",
      " [  0.           0.           1.        ]]\n",
      "[[-3.27205041e-01  1.40667566e-01 -1.11023941e-04  5.00502395e-04\n",
      "  -3.24744770e-02]]\n"
     ]
    }
   ],
   "source": [
    "ret, mtx_left, dist, rvecs, tvecs = cv2.calibrateCamera(objpoints_l, imgpoints_l, gray.shape[::-1], None, None)\n",
    "img = cv2.imread('Stereo_calibration_images/left-0000.png')\n",
    "h,  w = img.shape[:2]\n",
    "ret, mtx_right, dist_2, rvecs, tvecs = cv2.calibrateCamera(objpoints_r, imgpoints_r, gray.shape[::-1], None, None)\n",
    "print(mtx_left)\n",
    "print(dist)\n",
    "print(mtx_right)\n",
    "print(dist_2)"
   ]
  },
  {
   "cell_type": "code",
   "execution_count": 5,
   "metadata": {},
   "outputs": [
    {
     "name": "stdout",
     "output_type": "stream",
     "text": [
      "0.23572728777371055\n"
     ]
    }
   ],
   "source": [
    "img_shape = gray.shape[::-1]"
   ]
  },
  {
   "cell_type": "code",
   "execution_count": 9,
   "metadata": {},
   "outputs": [],
   "source": [
    "#Stereo calibrate\n",
    "stereocalibration_criteria = (cv2.TERM_CRITERIA_EPS + cv2.TERM_CRITERIA_MAX_ITER, 100, 1e-5)\n",
    "stereocalibration_flags = (cv2.CALIB_FIX_K3 + cv2.CALIB_FIX_K4 + cv2.CALIB_FIX_K5 + cv2.CALIB_FIX_ASPECT_RATIO + cv2.CALIB_ZERO_TANGENT_DIST + cv2.CALIB_SAME_FOCAL_LENGTH + cv2.CALIB_RATIONAL_MODEL) \n",
    "\n",
    "retval, cameraMatrix1, distCoeffs1, cameraMatrix2, distCoeffs2, R, T, E, F = cv2.stereoCalibrate(objpoints_l, imgpoints_l, imgpoints_r, mtx_left, dist, mtx_right, dist_2, gray.shape[::-1],flags = stereocalibration_flags, criteria = stereocalibration_criteria)"
   ]
  },
  {
   "cell_type": "code",
   "execution_count": 10,
   "metadata": {},
   "outputs": [
    {
     "name": "stdout",
     "output_type": "stream",
     "text": [
      "0.3077694781947018\n",
      "[[722.19099627   0.         632.32322214]\n",
      " [  0.         722.26963485 371.60953929]\n",
      " [  0.           0.           1.        ]]\n",
      "[[-0.33910572  0.16526134  0.          0.          0.          0.\n",
      "   0.          0.06360177  0.          0.          0.          0.\n",
      "   0.          0.        ]]\n",
      "[[722.19099627   0.         648.20872308]\n",
      " [  0.         722.26963485 374.01901843]\n",
      " [  0.           0.           1.        ]]\n",
      "[[-0.34530767  0.17408995  0.          0.          0.          0.\n",
      "   0.          0.06880116  0.          0.          0.          0.\n",
      "   0.          0.        ]]\n",
      "[[ 0.99996277 -0.00565091  0.00652116]\n",
      " [ 0.0056628   0.99998234 -0.00180546]\n",
      " [-0.00651084  0.00184232  0.99997711]]\n",
      "[[-3.57473805]\n",
      " [-0.00774091]\n",
      " [ 0.05689866]]\n",
      "[[-2.71805676e-04 -5.69119145e-02 -7.63800345e-03]\n",
      " [ 3.36219762e-02  6.26426898e-03  3.57502726e+00]\n",
      " [-1.25023940e-02 -3.57471865e+00  6.50451031e-03]]\n",
      "[[-1.97434490e-07 -4.13352347e-05  1.14786214e-02]\n",
      " [ 2.44197070e-05  4.54925544e-06  1.85807282e+00]\n",
      " [-1.55640350e-02 -1.84995029e+00  1.00000000e+00]]\n"
     ]
    }
   ],
   "source": [
    "print(retval)\n",
    "print(cameraMatrix1)\n",
    "print(distCoeffs1)\n",
    "print(cameraMatrix2)\n",
    "print(distCoeffs2)\n",
    "print(R)\n",
    "print(T)\n",
    "print(E)\n",
    "print(F)"
   ]
  },
  {
   "cell_type": "code",
   "execution_count": 11,
   "metadata": {},
   "outputs": [
    {
     "name": "stdout",
     "output_type": "stream",
     "text": [
      "R1: \n",
      "\n",
      "[[ 9.99949662e-01 -3.51437290e-03 -9.39804547e-03]\n",
      " [ 3.50601979e-03  9.99993444e-01 -9.05140419e-04]\n",
      " [ 9.40116486e-03  8.72145123e-04  9.99955428e-01]]\n",
      "R2: \n",
      "\n",
      "[[ 9.99871007e-01  2.16516848e-03 -1.59148217e-02]\n",
      " [-2.15088818e-03  9.99997269e-01  9.14357406e-04]\n",
      " [ 1.59167580e-02 -8.80008458e-04  9.99872933e-01]]\n",
      "P1: \n",
      "\n",
      "[[720.63825687   0.         682.02740479   0.        ]\n",
      " [  0.         720.63825687 410.10417175   0.        ]\n",
      " [  0.           0.           1.           0.        ]]\n",
      "P2: \n",
      "\n",
      "[[ 7.20638257e+02  0.00000000e+00  6.82027405e+02 -2.57642534e+03]\n",
      " [ 0.00000000e+00  7.20638257e+02  4.10104172e+02  0.00000000e+00]\n",
      " [ 0.00000000e+00  0.00000000e+00  1.00000000e+00  0.00000000e+00]]\n",
      "Q: \n",
      "\n",
      "[[ 1.00000000e+00  0.00000000e+00  0.00000000e+00 -6.82027405e+02]\n",
      " [ 0.00000000e+00  1.00000000e+00  0.00000000e+00 -4.10104172e+02]\n",
      " [ 0.00000000e+00  0.00000000e+00  0.00000000e+00  7.20638257e+02]\n",
      " [ 0.00000000e+00  0.00000000e+00  2.79704693e-01 -0.00000000e+00]]\n",
      "ROI 1: \n",
      "\n",
      "(0, 0, 1280, 720)\n",
      "ROI 2: \n",
      "\n",
      "(0, 0, 1280, 720)\n"
     ]
    }
   ],
   "source": [
    "P1 = np.zeros(shape=(3,4)) \n",
    "P2 = np.zeros(shape=(3,4))\n",
    "\n",
    "R1 = np.zeros(shape=(3,3))\n",
    "R2 = np.zeros(shape=(3,3))\n",
    "\n",
    "R1, R2, P1, P2, Q, roi1, roi2 = cv2.stereoRectify(cameraMatrix1,distCoeffs1,cameraMatrix2,distCoeffs2,gray.shape[::-1], R, T, alpha=0)\n",
    "\n",
    "print(\"R1: \\n\")\n",
    "print(R1)\n",
    "print(\"R2: \\n\")\n",
    "print(R2)\n",
    "print(\"P1: \\n\")\n",
    "print(P1)\n",
    "print(\"P2: \\n\")\n",
    "print(P2)\n",
    "print(\"Q: \\n\")\n",
    "print(Q)\n",
    "print(\"ROI 1: \\n\")\n",
    "print(roi1)\n",
    "print(\"ROI 2: \\n\")\n",
    "print(roi2)"
   ]
  },
  {
   "cell_type": "code",
   "execution_count": 13,
   "metadata": {},
   "outputs": [],
   "source": [
    "undistortion_map_left, rectification_map_left = cv2.initUndistortRectifyMap(cameraMatrix1, distCoeffs1, R1, P1,img_shape,cv2.CV_32FC1) \n",
    "undistortion_map_right, rectification_map_right = cv2.initUndistortRectifyMap(cameraMatrix2, distCoeffs2, R2, P2,img_shape,cv2.CV_32FC1) \n"
   ]
  },
  {
   "cell_type": "code",
   "execution_count": 16,
   "metadata": {},
   "outputs": [],
   "source": [
    "img1 = cv2.imread('Stereo_calibration_images/left-0020.png')\n",
    "img2 = cv2.imread('Stereo_calibration_images/right-0020.png')\n",
    "\n",
    "img_rect1 = cv2.remap(img1, undistortion_map_left, rectification_map_left, cv2.INTER_LINEAR)\n",
    "img_rect2 = cv2.remap(img2, undistortion_map_right, rectification_map_right, cv2.INTER_LINEAR)\n",
    "\n",
    "\n",
    "# draw the images side by side\n",
    "total_size = (max(img_rect1.shape[0], img_rect2.shape[0]),\n",
    "                  img_rect1.shape[1] + img_rect2.shape[1], 3)\n",
    "img = np.zeros(total_size, dtype=np.uint8)\n",
    "img[:img_rect1.shape[0], :img_rect1.shape[1]] = img_rect1\n",
    "img[:img_rect2.shape[0], img_rect1.shape[1]:] = img_rect2\n",
    "\n",
    "# draw horizontal lines every 25 px accross the side by side image\n",
    "for i in range(20, img.shape[0]-50, 35):\n",
    "    cv2.line(img, (0, i), (img.shape[1], i), (255, 0, 0))\n",
    "    cv2.imshow('imgRectified', img)\n",
    "    cv2.waitKey(500)\n",
    "\n",
    "cv2.imwrite(\"test.png\", img);\n",
    "cv2.destroyAllWindows()\n"
   ]
  },
  {
   "cell_type": "code",
   "execution_count": null,
   "metadata": {},
   "outputs": [],
   "source": []
  }
 ],
 "metadata": {
  "kernelspec": {
   "display_name": "Python 3",
   "language": "python",
   "name": "python3"
  },
  "language_info": {
   "codemirror_mode": {
    "name": "ipython",
    "version": 3
   },
   "file_extension": ".py",
   "mimetype": "text/x-python",
   "name": "python",
   "nbconvert_exporter": "python",
   "pygments_lexer": "ipython3",
   "version": "3.7.4"
  }
 },
 "nbformat": 4,
 "nbformat_minor": 2
}
